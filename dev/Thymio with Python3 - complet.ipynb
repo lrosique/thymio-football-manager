{
 "cells": [
  {
   "cell_type": "markdown",
   "metadata": {},
   "source": [
    "# A la découverte de Python3 grâce à la voiture Thymio !\n",
    "\n",
    "> Par Joachim Milesi et Lambert Rosique\n",
    "\n",
    "> CodeRoom de Bordeaux, le 06/06/2018"
   ]
  },
  {
   "cell_type": "markdown",
   "metadata": {},
   "source": [
    "## Comment utiliser ce \"notebook\""
   ]
  },
  {
   "cell_type": "markdown",
   "metadata": {},
   "source": [
    "<img src=\"http://jupyter.org/assets/try/jupyter.png\" width=\"70\" height=\"70\" style=\"display:inline\"/>**Jupyter** est une application web pour programmer dans plus de <u>40 langages</u>, dont Python 3.\n",
    "\n",
    "On utilise actuellement un notebook, qui permet d'exécuter facilement du code et d'en voir le résultat !\n",
    "\n",
    "Pour exécuter le code dans une cellule, cliquez simplement sur RUN en haut ou faites **SHIFT+ENTER**"
   ]
  },
  {
   "cell_type": "markdown",
   "metadata": {},
   "source": [
    "## Rapide présentation de Python"
   ]
  },
  {
   "cell_type": "markdown",
   "metadata": {},
   "source": [
    "<img src=\"https://www.python.org/static/community_logos/python-logo-master-v3-TM.png\" width=\"120\" height=\"40\" style=\"display:inline\"/>est un langage de programmation, dont la première version est sortie en *1991*. \n",
    "\n",
    "Créé par *Guido van Rossum*, la Python Software Foundation, créée en 2001. Ce langage a été baptisé ainsi en hommage à la troupe de comiques les « Monty Python ».\n",
    "\n",
    "En Python, vous pouvez absolument tout faire de manière <u>très simple</u> : un serveur web, une application bureautique, un site internet, de l'embarqué pour vos robots, des mathématiques très avancés (intelligence artificielle), des lecteurs audios, des jeux vidéos et beaucoup d'autres choses encore !\n",
    "D'ailleurs, les applications suivantes sont en Python : BitTorrent, Dropbox, Civilization IV, World of Tanks, Eve Online, Django...\n",
    "\n",
    "**Remarque** : il s'agit d'un langage <u>interprété</u>, c'est-à-dire qu'il est lu par l'ordinateur en temps réel. Vous pouvez donc modifier du code en même temps qu'il est exécuté ! Pratique, pour une IA qui souhaite réécrire son code :P\n",
    "\n",
    "**ATTENTION : en Python, les indentations (espaces en début de ligne) doivent être respectés, sinon ça ne marchera pas !**\n",
    "\n",
    "#### Python 2 vs Python 3\n",
    "\n",
    "Sans nous lancer dans un débat comme la majorité de la communauté Python, il faut savoir que deux versions existent. \n",
    "On vous conseille très vivement de **n'utiliser que la 3**, car c'est elle qui représente l'avenir de Python et présente le plus de fonctionnalités (y compris pour de l'IA)."
   ]
  },
  {
   "cell_type": "markdown",
   "metadata": {},
   "source": [
    "### Les imports (car on va en avoir besoin) !"
   ]
  },
  {
   "cell_type": "code",
   "execution_count": null,
   "metadata": {
    "collapsed": true
   },
   "outputs": [],
   "source": [
    "# Pour importer un fichier ou une librairie Python, il suffit d'écrire \"import NOM\"\n",
    "# Par exemple, pour importer interface_camera, on écrira :\n",
    "import interface_camera"
   ]
  },
  {
   "cell_type": "code",
   "execution_count": null,
   "metadata": {
    "collapsed": true
   },
   "outputs": [],
   "source": [
    "# Ensuite, pour utiliser une fonction de ce fichier, il suffit de l'écrire en indiquant le nom du fichier juste devant\n",
    "# Par exemple, pour appeler hello_world qui est dans le fichier interface_camera :\n",
    "interface_camera.hello_world()"
   ]
  },
  {
   "cell_type": "code",
   "execution_count": null,
   "metadata": {
    "collapsed": true
   },
   "outputs": [],
   "source": [
    "# Petite astuce pour gagner du temps : vous pouvez lors de l'import changer le nom pour ne pas avoir à tout écrire\n",
    "# Ajoutez simplement en fin de ligne le mot clé \"as\" puis le nom désiré\n",
    "\n",
    "## EXERCICE (2 lignes) ##\n",
    "# Essayez d'importer jupyter_helper en le nommant \"jh\" puis d'appeler validation_import\n",
    "## DEBUT ##\n",
    "# Import de jupyter_helper\n",
    "\n",
    "# Appel de validation_import\n",
    "\n",
    "## FIN##"
   ]
  },
  {
   "cell_type": "code",
   "execution_count": null,
   "metadata": {
    "collapsed": true
   },
   "outputs": [],
   "source": [
    "# Remarque : il existe une autre notation qui permet de n'importer que certaines fonctions\n",
    "from interface_camera import hello_world\n",
    "\n",
    "# ou absolument tout en mettant * : il n'y aura pas d'alias à saisir devant les méthodes\n",
    "from interface_camera import *\n",
    "\n",
    "hello_world()"
   ]
  },
  {
   "cell_type": "markdown",
   "metadata": {},
   "source": [
    "### Les variables, les types primitifs et les opérations"
   ]
  },
  {
   "cell_type": "markdown",
   "metadata": {},
   "source": [
    "Une variable est un symbole ou groupe de symbole qui contient une information.\n",
    "\n",
    "Par exemple, si on écrit x = 3, alors la variable \"x\" contient la valeur 3.\n",
    "\n",
    "Il existe plusieurs types d'information : \n",
    "\n",
    "- les nombres = int  --> ex : -7 42 3.1415 \n",
    "- les chaînes de caractères = str --> ex : \"hello\" 'bonjour'\n",
    "- les booléens = bool --> ex : True False \n",
    "- l'absence d'information = None --> c'est l'équivalent du null\n",
    "\n",
    "Quand on déclare une variable en Python, il n'y a pas besoin de préciser son type, le programme le devinera tout seul en fonction du contexte ! Et rien ne vous empêchera de le remplacer par autre chose\n",
    "\n",
    "Pour les int, vous pouvez réaliser de nombreuses opérations mathématiques :\n",
    "\n",
    "- ``+`` addition (qui sert aussi à mettre deux chaînes bout à bout)\n",
    "- ``-`` différence\n",
    "- ``/`` division\n",
    "- ``*`` multiplication"
   ]
  },
  {
   "cell_type": "code",
   "execution_count": 2,
   "metadata": {},
   "outputs": [
    {
     "name": "stdout",
     "output_type": "stream",
     "text": [
      "x vaut : 3\n",
      "x vaut : 5.7\n",
      "x vaut : 8.7\n",
      "x vaut : 10 baguettes de pain\n"
     ]
    }
   ],
   "source": [
    "# Définition de la variable x\n",
    "x = 3\n",
    "print(\"x vaut :\",x)\n",
    "# On réassigne sa valeur (et on change de type : \"int\" devient \"float\" = nombre à virgule)\n",
    "x = 5.7\n",
    "print(\"x vaut :\",x)\n",
    "# On ajoute 3 à x (en écrasant la variable : le calcul est fait AVANT l'assignation de la valeur)\n",
    "x = x + 3\n",
    "print(\"x vaut :\",x)\n",
    "# x devient une chaîne de caractères\n",
    "x = \"10 baguettes de pain\"\n",
    "print(\"x vaut :\",x)"
   ]
  },
  {
   "cell_type": "markdown",
   "metadata": {},
   "source": [
    "EXERCICE : On va calculer la circonférence de notre parallèle sur le globe terrestre\n",
    "\n",
    "$$2 \\cdot \\pi \\cdot \\cos(L) \\cdot R$$\n",
    "\n",
    "avec L = le degré de latitude (pour Bordeaux : 44.5°)\n",
    "et   R = le rayon de la Terre (6378km)\n",
    "\n",
    "*Astuce* : pour avoir la valeur exacte de $\\pi$ vous pouvez utiliser pi qui est dans le module math, et pour appliquer le cosinus appeler cos(valeur) de math"
   ]
  },
  {
   "cell_type": "code",
   "execution_count": 17,
   "metadata": {},
   "outputs": [
    {
     "name": "stdout",
     "output_type": "stream",
     "text": [
      "34822.7702677673\n"
     ]
    }
   ],
   "source": [
    "## EXERCICE (5 lignes) ##\n",
    "## DEBUT ##\n",
    "# Import du module math\n",
    "\n",
    "# Définition des variables\n",
    "L = \n",
    "R = \n",
    "pi =\n",
    "# Calcul\n",
    "resultat = \n",
    "## FIN ##\n",
    "print(resultat)"
   ]
  },
  {
   "cell_type": "markdown",
   "metadata": {},
   "source": [
    "**Expected Output**:\n",
    "\n",
    "<table style=\"border-collapse: collapse;border: 1px solid black;\">\n",
    " <tr style=\"border: 1px solid black;\">\n",
    "  <td style=\"border: 1px solid black;\">\n",
    "   **out**\n",
    "  </td>\n",
    "  <td style=\"border: 1px solid black;\">\n",
    "   34822.7702677673\n",
    "  </td>\n",
    " </tr>\n",
    "</table>"
   ]
  },
  {
   "cell_type": "markdown",
   "metadata": {},
   "source": [
    "### Les fonctions"
   ]
  },
  {
   "cell_type": "markdown",
   "metadata": {},
   "source": []
  },
  {
   "cell_type": "markdown",
   "metadata": {},
   "source": [
    "### Les conditions"
   ]
  },
  {
   "cell_type": "markdown",
   "metadata": {},
   "source": [
    "### Les boucles"
   ]
  },
  {
   "cell_type": "markdown",
   "metadata": {},
   "source": [
    "### Les chaînes de caractères"
   ]
  },
  {
   "cell_type": "markdown",
   "metadata": {},
   "source": [
    "### Les listes"
   ]
  },
  {
   "cell_type": "markdown",
   "metadata": {},
   "source": [
    "### Les dictionnaires"
   ]
  },
  {
   "cell_type": "markdown",
   "metadata": {},
   "source": [
    "### Pour aller plus loin (hors programme)\n",
    "\n",
    "Voici un certain nombre de mots-clés / concepts que vous pourrez découvrir par vous-même ou en nous demandant :)\n",
    "\n",
    "- classes\n",
    "- héritage\n",
    "- décorateurs\n",
    "- fonctions spéciales\n",
    "- métaclasses"
   ]
  },
  {
   "cell_type": "markdown",
   "metadata": {},
   "source": [
    "## A la découverte de votre tout nouveau bolide : le Thymio"
   ]
  },
  {
   "cell_type": "markdown",
   "metadata": {},
   "source": [
    "### L'interface de la caméra"
   ]
  },
  {
   "cell_type": "markdown",
   "metadata": {},
   "source": [
    "### Les commandes du Thymio"
   ]
  },
  {
   "cell_type": "code",
   "execution_count": null,
   "metadata": {
    "collapsed": true
   },
   "outputs": [],
   "source": []
  }
 ],
 "metadata": {
  "kernelspec": {
   "display_name": "Python 3",
   "language": "python",
   "name": "python3"
  },
  "language_info": {
   "codemirror_mode": {
    "name": "ipython",
    "version": 3
   },
   "file_extension": ".py",
   "mimetype": "text/x-python",
   "name": "python",
   "nbconvert_exporter": "python",
   "pygments_lexer": "ipython3",
   "version": "3.6.3"
  }
 },
 "nbformat": 4,
 "nbformat_minor": 2
}
