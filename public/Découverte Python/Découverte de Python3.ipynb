{
 "cells": [
  {
   "cell_type": "markdown",
   "metadata": {},
   "source": [
    "# A la découverte de Python3\n",
    "\n",
    "> Par Joachim Milesi et Lambert Rosique\n",
    "\n",
    "> CodeRoom de Bordeaux, le 06/06/2018"
   ]
  },
  {
   "cell_type": "markdown",
   "metadata": {},
   "source": [
    "## Comment utiliser ce \"notebook\""
   ]
  },
  {
   "cell_type": "markdown",
   "metadata": {},
   "source": [
    "<img src=\"http://jupyter.org/assets/try/jupyter.png\" width=\"70\" height=\"70\" style=\"display:inline\"/>**Jupyter** est une application web pour programmer dans plus de <u>40 langages</u>, dont Python 3.\n",
    "\n",
    "On utilise actuellement un notebook, qui permet d'exécuter facilement du code et d'en voir le résultat !\n",
    "\n",
    "Pour exécuter le code dans une cellule, cliquez simplement sur RUN en haut ou faites **SHIFT+ENTER**"
   ]
  },
  {
   "cell_type": "markdown",
   "metadata": {},
   "source": [
    "## Rapide présentation de Python"
   ]
  },
  {
   "cell_type": "markdown",
   "metadata": {},
   "source": [
    "<img src=\"https://www.python.org/static/community_logos/python-logo-master-v3-TM.png\" width=\"120\" height=\"40\" style=\"display:inline\"/>est un langage de programmation, dont la première version est sortie en *1991*. \n",
    "\n",
    "En Python, vous pouvez absolument tout faire de manière <u>très simple</u> : un serveur web, une application bureautique, un site internet, de l'embarqué pour vos robots, des mathématiques très avancés (intelligence artificielle), des lecteurs audios, des jeux vidéos et beaucoup d'autres choses encore !\n",
    "\n",
    "D'ailleurs, les applications suivantes sont en Python : BitTorrent, Dropbox, Civilization IV, World of Tanks, Eve Online, Django...\n",
    "\n",
    "**Remarque** : il s'agit d'un langage <u>interprété</u>.\n",
    "\n",
    "**ATTENTION : en Python, les indentations (espaces en début de ligne) doivent être respectés, sinon ça ne marchera pas !**"
   ]
  },
  {
   "cell_type": "markdown",
   "metadata": {},
   "source": [
    "### Les imports (car on va en avoir besoin) !"
   ]
  },
  {
   "cell_type": "code",
   "execution_count": 5,
   "metadata": {},
   "outputs": [],
   "source": [
    "# Un import est simplement le fait de charger le contenu d'un autre fichier python ici\n",
    "# On pourra alors appeler tout ce qu'il contient en utilisant son \"alias\"\n",
    "import jupyter_helper as jh\n",
    "import math as m"
   ]
  },
  {
   "cell_type": "code",
   "execution_count": 6,
   "metadata": {},
   "outputs": [
    {
     "data": {
      "text/plain": [
       "'Hello Mr Robot, nice to meet you !'"
      ]
     },
     "execution_count": 6,
     "metadata": {},
     "output_type": "execute_result"
    }
   ],
   "source": [
    "# Par exemple si je veux utiliser la méthode hello_world() du module jupyter_helper (renommé en \"jh\") :\n",
    "jh.hello_world()\n",
    "\n",
    "## EXERCICE ##\n",
    "## DEBUT (1 ligne) ##\n",
    "# Appelez validation_import() de jupyter_helper \n",
    "\n",
    "## FIN##"
   ]
  },
  {
   "cell_type": "markdown",
   "metadata": {},
   "source": [
    "### Les variables, les types primitifs et les opérations"
   ]
  },
  {
   "cell_type": "markdown",
   "metadata": {},
   "source": [
    "Pour définir une variable, il suffit d'utiliser la notation (sans préciser de type)\n",
    "\n",
    "*ma_variable **=** ma_valeur*\n",
    "\n",
    "Néanmoins, il y a des types en python : les entiers (int), les chaînes de caractères (str), les nombres à virgule (float), les listes (list), les dictionnaires et bien d'autres encore\n",
    "\n",
    "Vous pouvez réaliser les opérations usuelles ( + , - , * , / , % ...) mais attention au type !"
   ]
  },
  {
   "cell_type": "code",
   "execution_count": 20,
   "metadata": {},
   "outputs": [
    {
     "name": "stdout",
     "output_type": "stream",
     "text": [
      "x = 3\n",
      "x = 5.4\n",
      "y = 5\n",
      "hi there\n"
     ]
    }
   ],
   "source": [
    "# Définition de la variable x\n",
    "x = 3\n",
    "print(\"x =\",x)\n",
    "\n",
    "# On ajoute 2 à x et on écrase x pour stocker cette valeur\n",
    "x = x + 2.4 #Il existe une notation simplifiée pour cette action précise : x += 2\n",
    "print(\"x =\",x)\n",
    "\n",
    "# On arrondi x à l'entier le plus proche (avec round qui est incluse dans Python de base)\n",
    "y = round(x)\n",
    "print(\"y =\",y)\n",
    "\n",
    "# Enfin, pour concatener deux chaînes vous pouvez utiliser le +\n",
    "a,b,c = \"hi\",\" \",\"there\"\n",
    "print(a+b+c)"
   ]
  },
  {
   "cell_type": "markdown",
   "metadata": {},
   "source": [
    "Calculons à présent la circonférence de notre parallèle sur le globe terrestre\n",
    "\n",
    "$$2 \\cdot \\pi \\cdot \\cos(L) \\cdot R$$\n",
    "\n",
    "avec L = le degré de latitude (pour Bordeaux : 44.5°)\n",
    "et   R = le rayon de la Terre (6378km)\n",
    "\n",
    "*Astuce* : pour avoir la valeur exacte de $\\pi$ vous pouvez utiliser pi qui est dans le module math (son alias est m), et pour appliquer le cosinus appeler cos(valeur) de math"
   ]
  },
  {
   "cell_type": "code",
   "execution_count": null,
   "metadata": {},
   "outputs": [],
   "source": [
    "## EXERCICE ##\n",
    "## DEBUT (5 lignes) ##\n",
    "# Import du module math\n",
    "\n",
    "# Définition des variables\n",
    "L = \n",
    "R = \n",
    "pi =\n",
    "# Calcul\n",
    "resultat = \n",
    "## FIN ##\n",
    "print(resultat)"
   ]
  },
  {
   "cell_type": "markdown",
   "metadata": {},
   "source": [
    "**Expected Output**:\n",
    "\n",
    "<table style=\"border-collapse: collapse;border: 1px solid black;\">\n",
    " <tr style=\"border: 1px solid black;\">\n",
    "  <td style=\"border: 1px solid black;\">\n",
    "   **out**\n",
    "  </td>\n",
    "  <td style=\"border: 1px solid black;\">\n",
    "   34822.7702677673\n",
    "  </td>\n",
    " </tr>\n",
    "</table>"
   ]
  },
  {
   "cell_type": "markdown",
   "metadata": {},
   "source": [
    "### Les fonctions"
   ]
  },
  {
   "cell_type": "markdown",
   "metadata": {},
   "source": [
    "Pour définir une fonction on utilise le mot clé **def** puis on précise entre parenthèses les paramètres.\n",
    "\n",
    "Si un paramètre est nommé alors il devient facultatif et pour l'utiliser il faut le préciser (cf exemple)\n",
    "\n",
    "**ATTENTION : il n'y a PAS de signature en Python, donc le nom de vos fonctions doit être unique**"
   ]
  },
  {
   "cell_type": "code",
   "execution_count": 33,
   "metadata": {},
   "outputs": [
    {
     "name": "stdout",
     "output_type": "stream",
     "text": [
      "Salut !\n",
      "Salut toi!\n",
      "Salut Mr Robot!\n",
      "Salut moi!\n"
     ]
    }
   ],
   "source": [
    "# Définition de la fonction\n",
    "def bonjour():\n",
    "    print(\"Salut !\")\n",
    "# Appel de la fonction  \n",
    "bonjour()\n",
    "\n",
    "# On change la définition de la fonction pour utiliser un paramètre\n",
    "def bonjour(nom):\n",
    "    print(\"Salut \"+nom+\"!\")\n",
    "# Appel de la fonction  \n",
    "bonjour(\"toi\")\n",
    "\n",
    "# On change la définition de la fonction pour utiliser un paramètre nommé\n",
    "def bonjour(nom=\"Mr Robot\"):\n",
    "    print(\"Salut \"+nom+\"!\")\n",
    "# Appel de la fonction  \n",
    "bonjour()\n",
    "bonjour(\"moi\")"
   ]
  },
  {
   "cell_type": "code",
   "execution_count": 36,
   "metadata": {},
   "outputs": [
    {
     "name": "stdout",
     "output_type": "stream",
     "text": [
      "A l'équateur, la circonférence du globle est de 40074.1558891914 km\n"
     ]
    }
   ],
   "source": [
    "## EXERCICE ##\n",
    "## DEBUT (3 lignes) ##\n",
    "# Définir la fonction circonference_parallele qui prend en paramètres L, R et renvoie la circonférence (cf formule précédente)\n",
    "\n",
    "    calcul = \n",
    "    return calcul\n",
    "## FIN ##\n",
    "print(\"A l'équateur, la circonférence du globle est de\",circonference_parallele(0,6378),\"km\")"
   ]
  },
  {
   "cell_type": "markdown",
   "metadata": {},
   "source": [
    "**Expected Output**:\n",
    "\n",
    "<table style=\"border-collapse: collapse;border: 1px solid black;\">\n",
    " <tr style=\"border: 1px solid black;\">\n",
    "  <td style=\"border: 1px solid black;\">\n",
    "   **out**\n",
    "  </td>\n",
    "  <td style=\"border: 1px solid black;\">\n",
    "   40074.1558891914\n",
    "  </td>\n",
    " </tr>\n",
    "</table>"
   ]
  },
  {
   "cell_type": "markdown",
   "metadata": {},
   "source": [
    "### Les listes et les dictionnaires"
   ]
  },
  {
   "cell_type": "code",
   "execution_count": 65,
   "metadata": {},
   "outputs": [
    {
     "name": "stdout",
     "output_type": "stream",
     "text": [
      "Voici ma liste : [42, 99, 'toto', 8, 3.14, 3.141592653589793, 'test']\n",
      "La liste comporte 7 éléments\n",
      "3ème élément : toto\n",
      "Ma liste modifiée : [43, 99, 'toto', 8, 3.14, 3.141592653589793, 'test', \"vers l'infini est au-delà !\"]\n",
      "Eléments 3 à 5 : ['toto', 8]\n",
      "Les deux premières lettres de salut sont sa\n"
     ]
    }
   ],
   "source": [
    "## LISTES ##\n",
    "# Une liste est définie par les [] ET elle est non typée !\n",
    "ma_liste = [42, 99, \"toto\", 8, 3.14, m.pi, \"test\"]\n",
    "print(\"Voici ma liste :\",ma_liste)\n",
    "\n",
    "# Pour connaitre sa longueur :\n",
    "longueur = len(ma_liste)\n",
    "print(\"La liste comporte\",longueur,\"éléments\")\n",
    "\n",
    "# Pour accéder à un élément :\n",
    "element_3 = ma_liste[2]\n",
    "# ATTENTION : cela signifie bien qu'on regarde le 3e élément de la liste (car le 1er a pour indice 0)\n",
    "print(\"3ème élément :\",element_3)\n",
    "\n",
    "# Pour modifier une liste, on utilise = pour écraser une valeur ou append pour l'ajouter à la fin de la liste\n",
    "ma_liste[0] += 1\n",
    "ma_liste.append(\"vers l'infini est au-delà !\")\n",
    "print(\"Ma liste modifiée :\",ma_liste)\n",
    "\n",
    "# Enfin, pour extraire une sous-liste d'une liste on utilise ma_liste[a:b] : on prend les indices de a à b (exclus)\n",
    "# ASTUCE : vous pouvez utiliser -1 pour compter à l'envers\n",
    "el3_a_el5 = ma_liste[2:4]\n",
    "print(\"Eléments 3 à 5 :\",el3_a_el5)\n",
    "\n",
    "# REMARQUE : une chaîne de caractère est également une liste :\n",
    "chaine = \"salut\"\n",
    "print(\"Les deux premières lettres de\",chaine,\"sont\",chaine[0:2])"
   ]
  },
  {
   "cell_type": "code",
   "execution_count": 59,
   "metadata": {},
   "outputs": [
    {
     "name": "stdout",
     "output_type": "stream",
     "text": [
      "Voici mon dictionnaire {'clé 1': 42, 'toto': 'tata', 3: 3.141592653589793}\n",
      "Clé 1 = 42\n",
      "pi =  3.141592653589793\n"
     ]
    }
   ],
   "source": [
    "## DICTIONNAIRES ##\n",
    "# Un dictionnaire est défini par {}. Il n'y a pas d'ordre dedans, il fonctionne par un système de clé/valeur :\n",
    "mon_dictionnaire = {\"clé 1\":42, \"toto\":\"tata\", 3:m.pi}\n",
    "print(\"Voici mon dictionnaire\",mon_dictionnaire)\n",
    "\n",
    "# Pour accéder à un élément, on utilise la même notation que pour les listes en donnant cette fois la clé :\n",
    "cle = mon_dictionnaire[\"clé 1\"]\n",
    "pi = mon_dictionnaire[3]\n",
    "print(\"Clé 1 =\",cle)\n",
    "print(\"pi = \",pi)\n",
    "\n",
    "# Pour modifier le dictionnaire, il suffit d'utiliser le =\n",
    "mon_dictionnaire[\"clé 1\"] = 41\n",
    "\n",
    "# ASTUCE : vous pouvez mettre ce que vous voulez où vous voulez... \n",
    "# donc un dictionnaire avec des listes contenant des dictionnaires !\n",
    "dictionnaire_complexe = {\"liste1\":[1,2,3],\"dict1\":{\"cle\":\"toto\"}}"
   ]
  },
  {
   "cell_type": "code",
   "execution_count": 63,
   "metadata": {},
   "outputs": [],
   "source": [
    "tellurique = \"tellurique\"\n",
    "gazeuse = \"gazeuse\"\n",
    "naine = \"naine\"\n",
    "## EXERCICE ##\n",
    "## DEBUT (2 lignes) ##\n",
    "# Créez une liste types_planetes qui rassemble les 3 variables ci-dessus\n",
    "types_planetes = \n",
    "\n",
    "# Créez un dictionnaire infos_planetes avec en clés les noms des planètes Mercure, Terre, Mars, Jupiter, Pluton\n",
    "# et en valeurs un dictionnaire avec une clé pour le rayon (qui vaudra respectivement 2440 , 6371 , 3390 , 69911 , 1188 )\n",
    "# et une clé pour le type de planète (gazeuse pour Jupiter, naine pour Pluton et le reste est tellurique)\n",
    "# à l'aide de la liste types_planetes\n",
    "infos_planetes = \n",
    "\n",
    "## FIN ##\n",
    "print(\"Jupyter est\",infos_planetes[\"Jupiter\"][\"type\"],\"avec ses\",str(infos_planetes[\"Jupiter\"][\"rayon\"])+\"km\")"
   ]
  },
  {
   "cell_type": "markdown",
   "metadata": {},
   "source": [
    "**Expected Output**:\n",
    "\n",
    "<table style=\"border-collapse: collapse;border: 1px solid black;\">\n",
    " <tr style=\"border: 1px solid black;\">\n",
    "  <td style=\"border: 1px solid black;\">\n",
    "   **out**\n",
    "  </td>\n",
    "  <td style=\"border: 1px solid black;\">\n",
    "   Jupyter est gazeuse avec ses 69911km\n",
    "  </td>\n",
    " </tr>\n",
    "</table>"
   ]
  },
  {
   "cell_type": "markdown",
   "metadata": {},
   "source": [
    "### Les conditions / boucles"
   ]
  },
  {
   "cell_type": "code",
   "execution_count": 38,
   "metadata": {},
   "outputs": [
    {
     "name": "stdout",
     "output_type": "stream",
     "text": [
      "x est trop grand !\n",
      "x est non null !\n"
     ]
    }
   ],
   "source": [
    "## CONDITIONS ##\n",
    "# On définit x\n",
    "x = 5\n",
    "# On affiche 3 messages différents suivant si x < 3, x = 3, x > 3\n",
    "if x > 3 :\n",
    "    print(\"x est trop grand !\")\n",
    "elif x == 3:\n",
    "    print(\"Oui !!\")\n",
    "else:\n",
    "    print(\"x est trop petit !\")\n",
    "    \n",
    "# Le \"elif\" et le \"else\" sont facultatifs. Encore une fois, n'oubliez pas les : en fin de ligne !\n",
    "# Vérifier des conditions de non nullité (c'est le seul cas où on utilise le mot clé \"is\") :\n",
    "if x is not None:\n",
    "    print(\"x est non null !\")"
   ]
  },
  {
   "cell_type": "code",
   "execution_count": 71,
   "metadata": {},
   "outputs": [
    {
     "name": "stdout",
     "output_type": "stream",
     "text": [
      "x vaut 2\n",
      "x vaut 3\n",
      "x vaut 4\n",
      "y vaut je\n",
      "y vaut tu\n",
      "y vaut il/elle\n",
      "lundi est le jour 1\n",
      "mardi est le jour 2\n",
      "jeudi est le jour 4\n",
      "z vaut 2\n",
      "z vaut 1\n",
      "z vaut 0\n"
     ]
    }
   ],
   "source": [
    "## BOUCLES ##\n",
    "# la méthode range(a,b) permet de créer une liste de l'entier a à l'entier b (exclus)\n",
    "# range(a) créera directement la liste de 0 à a (exclus)\n",
    "for x in range(2,5):\n",
    "    print(\"x vaut\",x)\n",
    "    \n",
    "# Définition d'une liste manuelle\n",
    "# Remarque : on peut en avoir la longueur grâce à len(ma_liste)\n",
    "ma_liste = [\"je\",\"tu\",\"il/elle\"]\n",
    "for y in ma_liste:\n",
    "    print(\"y vaut\",y)\n",
    "    \n",
    "# Pour un dictionnaire, il faut donner deux variables avec items(), sinon on ne bouclera que sur les clés !\n",
    "mon_dictionnaire = {\"lundi\":\"jour 1\",\"mardi\":\"jour 2\",\"jeudi\":\"jour 4\"}\n",
    "for cle, valeur in mon_dictionnaire.items():\n",
    "    print(cle,\"est le\",valeur)\n",
    "    \n",
    "# Enfin, le while s'utilise ainsi :\n",
    "z = 3\n",
    "while z > 0:\n",
    "    z -= 1\n",
    "    print(\"z vaut\",z)"
   ]
  },
  {
   "cell_type": "code",
   "execution_count": null,
   "metadata": {
    "collapsed": true
   },
   "outputs": [],
   "source": [
    "## EXERCICE ##\n",
    "## DEBUT (3 lignes) ##\n",
    "# Ecrire une fonction prenant en paramètre une chaîne (qui viendra de la liste types_planetes)\n",
    "def \n",
    "    # Initialisation de la variable planetes_demandees\n",
    "    planetes_demandees = \n",
    "    # Qui fait une boucle sur le dictionnaire infos_planetes\n",
    "    \n",
    "    # Et qui ajoute à planetes_demandees toutes celles qui correspondent au type attendu\n",
    "    \n",
    "    ## FIN ##\n",
    "    return planetes_demandees\n",
    "\n",
    "print(planetes_demandees(\"tellurique\"))"
   ]
  },
  {
   "cell_type": "markdown",
   "metadata": {},
   "source": [
    "**Expected Output**:\n",
    "\n",
    "<table style=\"border-collapse: collapse;border: 1px solid black;\">\n",
    " <tr style=\"border: 1px solid black;\">\n",
    "  <td style=\"border: 1px solid black;\">\n",
    "   **out**\n",
    "  </td>\n",
    "  <td style=\"border: 1px solid black;\">\n",
    "   [\"Mercure\",\"Terre\",\"Mars\"]\n",
    "  </td>\n",
    " </tr>\n",
    "</table>"
   ]
  }
 ],
 "metadata": {
  "kernelspec": {
   "display_name": "Python 3",
   "language": "python",
   "name": "python3"
  },
  "language_info": {
   "codemirror_mode": {
    "name": "ipython",
    "version": 3
   },
   "file_extension": ".py",
   "mimetype": "text/x-python",
   "name": "python",
   "nbconvert_exporter": "python",
   "pygments_lexer": "ipython3",
   "version": "3.6.4"
  }
 },
 "nbformat": 4,
 "nbformat_minor": 2
}
