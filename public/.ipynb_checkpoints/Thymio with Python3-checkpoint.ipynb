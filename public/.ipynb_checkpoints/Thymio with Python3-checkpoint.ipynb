{
 "cells": [
  {
   "cell_type": "markdown",
   "metadata": {},
   "source": [
    "# A la découverte de Python3 grâce à la voiture Thymio !\n",
    "\n",
    "> Par Joachim et Lambert\n",
    "\n",
    "> CodeRoom de Bordeaux, le 06/06/2018"
   ]
  },
  {
   "cell_type": "markdown",
   "metadata": {},
   "source": [
    "## Comment utiliser ce \"notebook\""
   ]
  },
  {
   "cell_type": "markdown",
   "metadata": {},
   "source": [
    "Blabla"
   ]
  },
  {
   "cell_type": "markdown",
   "metadata": {},
   "source": [
    "## Qu'est-ce que Python ?"
   ]
  },
  {
   "cell_type": "markdown",
   "metadata": {},
   "source": [
    "Blabla + les commentaires"
   ]
  },
  {
   "cell_type": "markdown",
   "metadata": {},
   "source": [
    "## Les imports en Python (car on va en avoir besoin) !"
   ]
  },
  {
   "cell_type": "markdown",
   "metadata": {},
   "source": [
    "blabla"
   ]
  },
  {
   "cell_type": "code",
   "execution_count": 11,
   "metadata": {},
   "outputs": [],
   "source": [
    "# Pour importer un fichier ou une librairie Python, il suffit d'écrire \"import NOM\"\n",
    "# Par exemple, pour importer interface_camera, on écrira :\n",
    "import interface_camera"
   ]
  },
  {
   "cell_type": "code",
   "execution_count": 12,
   "metadata": {},
   "outputs": [
    {
     "data": {
      "text/plain": [
       "'Hello Mr Robot, nice to meet you !'"
      ]
     },
     "execution_count": 12,
     "metadata": {},
     "output_type": "execute_result"
    }
   ],
   "source": [
    "# Ensuite, pour utiliser une fonction de ce fichier, il suffit de l'écrire en indiquant le nom du fichier juste devant\n",
    "# Par exemple, pour appeler hello_world qui est dans le fichier interface_camera :\n",
    "interface_camera.hello_world()"
   ]
  },
  {
   "cell_type": "code",
   "execution_count": null,
   "metadata": {},
   "outputs": [],
   "source": [
    "# Petite astuce pour gagner du temps : vous pouvez lors de l'import changer le nom pour ne pas avoir à tout écrire\n",
    "# Ajoutez simplement en fin de ligne le mot clé \"as\" puis le nom désiré\n",
    "\n",
    "## EXERCICE ##\n",
    "# Essayez de renommer interface_camera en \"ic\" puis d'appeler hello_world\n",
    "import #TODO"
   ]
  },
  {
   "cell_type": "code",
   "execution_count": 15,
   "metadata": {},
   "outputs": [
    {
     "data": {
      "text/plain": [
       "'Hello Mr Robot, nice to meet you !'"
      ]
     },
     "execution_count": 15,
     "metadata": {},
     "output_type": "execute_result"
    }
   ],
   "source": [
    "# Remarque : il existe une autre notation qui permet de n'importer que certaines fonctions\n",
    "# et évite d'avoir à taper \"ic.\" devant elles :\n",
    "from interface_camera import hello_world\n",
    "\n",
    "# Vous pouvez aussi mettre * qui signifie \"absolument tout\"\n",
    "from interface_camera import *\n",
    "\n",
    "hello_world()"
   ]
  },
  {
   "cell_type": "code",
   "execution_count": null,
   "metadata": {},
   "outputs": [],
   "source": []
  }
 ],
 "metadata": {
  "kernelspec": {
   "display_name": "Python 3",
   "language": "python",
   "name": "python3"
  },
  "language_info": {
   "codemirror_mode": {
    "name": "ipython",
    "version": 3
   },
   "file_extension": ".py",
   "mimetype": "text/x-python",
   "name": "python",
   "nbconvert_exporter": "python",
   "pygments_lexer": "ipython3",
   "version": "3.6.4"
  }
 },
 "nbformat": 4,
 "nbformat_minor": 2
}
